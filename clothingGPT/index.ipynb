{
 "cells": [
  {
   "cell_type": "code",
   "execution_count": 41,
   "metadata": {},
   "outputs": [],
   "source": [
    "# import libraries\n",
    "import pandas as pd\n",
    "import numpy as np"
   ]
  },
  {
   "cell_type": "code",
   "execution_count": 44,
   "metadata": {},
   "outputs": [
    {
     "data": {
      "text/html": [
       "<div>\n",
       "<style scoped>\n",
       "    .dataframe tbody tr th:only-of-type {\n",
       "        vertical-align: middle;\n",
       "    }\n",
       "\n",
       "    .dataframe tbody tr th {\n",
       "        vertical-align: top;\n",
       "    }\n",
       "\n",
       "    .dataframe thead th {\n",
       "        text-align: right;\n",
       "    }\n",
       "</style>\n",
       "<table border=\"1\" class=\"dataframe\">\n",
       "  <thead>\n",
       "    <tr style=\"text-align: right;\">\n",
       "      <th></th>\n",
       "      <th>UserId</th>\n",
       "      <th>Followings</th>\n",
       "      <th>Followers</th>\n",
       "      <th>MediaCount</th>\n",
       "      <th>BrandName</th>\n",
       "      <th>BrandCategory</th>\n",
       "      <th>Hashtags</th>\n",
       "      <th>Caption</th>\n",
       "      <th>ImgURL</th>\n",
       "      <th>Likes</th>\n",
       "      <th>...</th>\n",
       "      <th>NumberOfPeople</th>\n",
       "      <th>NumberOfFashionProduct</th>\n",
       "      <th>Anger</th>\n",
       "      <th>Contempt</th>\n",
       "      <th>Disgust</th>\n",
       "      <th>Fear</th>\n",
       "      <th>Happiness</th>\n",
       "      <th>Neutral</th>\n",
       "      <th>Sadness</th>\n",
       "      <th>Surprise</th>\n",
       "    </tr>\n",
       "  </thead>\n",
       "  <tbody>\n",
       "    <tr>\n",
       "      <th>0</th>\n",
       "      <td>1171579752855683619_212070047</td>\n",
       "      <td>518.0</td>\n",
       "      <td>9840.0</td>\n",
       "      <td>541</td>\n",
       "      <td>abercrombie</td>\n",
       "      <td>High street</td>\n",
       "      <td>beautiful, summer, fashion, love, cute, food, ...</td>\n",
       "      <td>We were born to be REAL, not to be perfect. ...</td>\n",
       "      <td>https://scontent.cdninstagram.com/t51.2885-15/...</td>\n",
       "      <td>97</td>\n",
       "      <td>...</td>\n",
       "      <td>0.931486</td>\n",
       "      <td>3.42211</td>\n",
       "      <td>0.083862</td>\n",
       "      <td>0.015089</td>\n",
       "      <td>0.000583</td>\n",
       "      <td>0.000026</td>\n",
       "      <td>0.000017</td>\n",
       "      <td>0.890586</td>\n",
       "      <td>0.009657</td>\n",
       "      <td>0.000181</td>\n",
       "    </tr>\n",
       "    <tr>\n",
       "      <th>1</th>\n",
       "      <td>1171594777274371222_176762322</td>\n",
       "      <td>7333.0</td>\n",
       "      <td>2300.0</td>\n",
       "      <td>272</td>\n",
       "      <td>abercrombie</td>\n",
       "      <td>High street</td>\n",
       "      <td>teen, model, brunette, selfie, hollister, snap...</td>\n",
       "      <td>Gotta run, but first, let me take selfie. Me...</td>\n",
       "      <td>https://scontent.cdninstagram.com/t51.2885-15/...</td>\n",
       "      <td>94</td>\n",
       "      <td>...</td>\n",
       "      <td>0.466329</td>\n",
       "      <td>2.91971</td>\n",
       "      <td>0.000000</td>\n",
       "      <td>0.000000</td>\n",
       "      <td>0.000000</td>\n",
       "      <td>0.000000</td>\n",
       "      <td>0.000000</td>\n",
       "      <td>0.000000</td>\n",
       "      <td>0.000000</td>\n",
       "      <td>0.000000</td>\n",
       "    </tr>\n",
       "    <tr>\n",
       "      <th>2</th>\n",
       "      <td>1171407552643586413_581125501</td>\n",
       "      <td>131.0</td>\n",
       "      <td>605.0</td>\n",
       "      <td>106</td>\n",
       "      <td>abercrombie</td>\n",
       "      <td>High street</td>\n",
       "      <td>alexandani, cute, llbean, beanboots, anthropol...</td>\n",
       "      <td>dress to impress\\U0001f457</td>\n",
       "      <td>https://scontent.cdninstagram.com/t51.2885-15/...</td>\n",
       "      <td>91</td>\n",
       "      <td>...</td>\n",
       "      <td>1.116500</td>\n",
       "      <td>4.69096</td>\n",
       "      <td>0.000000</td>\n",
       "      <td>0.000000</td>\n",
       "      <td>0.000000</td>\n",
       "      <td>0.000000</td>\n",
       "      <td>0.000000</td>\n",
       "      <td>0.000000</td>\n",
       "      <td>0.000000</td>\n",
       "      <td>0.000000</td>\n",
       "    </tr>\n",
       "    <tr>\n",
       "      <th>3</th>\n",
       "      <td>1171407552643586413_581125501</td>\n",
       "      <td>131.0</td>\n",
       "      <td>605.0</td>\n",
       "      <td>106</td>\n",
       "      <td>abercrombie</td>\n",
       "      <td>High street</td>\n",
       "      <td>alexandani, cute, llbean, beanboots, anthropol...</td>\n",
       "      <td>dress to impress\\U0001f457</td>\n",
       "      <td>https://scontent.cdninstagram.com/t51.2885-15/...</td>\n",
       "      <td>94</td>\n",
       "      <td>...</td>\n",
       "      <td>1.116500</td>\n",
       "      <td>4.69096</td>\n",
       "      <td>0.000000</td>\n",
       "      <td>0.000000</td>\n",
       "      <td>0.000000</td>\n",
       "      <td>0.000000</td>\n",
       "      <td>0.000000</td>\n",
       "      <td>0.000000</td>\n",
       "      <td>0.000000</td>\n",
       "      <td>0.000000</td>\n",
       "    </tr>\n",
       "    <tr>\n",
       "      <th>4</th>\n",
       "      <td>1171508187966229230_2797323089</td>\n",
       "      <td>132.0</td>\n",
       "      <td>456.0</td>\n",
       "      <td>56</td>\n",
       "      <td>abercrombie</td>\n",
       "      <td>High street</td>\n",
       "      <td>abercrombieandfitch, shopping, love, hollister...</td>\n",
       "      <td>#love #shopping #shoppen #hollister #abercro...</td>\n",
       "      <td>https://scontent.cdninstagram.com/t51.2885-15/...</td>\n",
       "      <td>9</td>\n",
       "      <td>...</td>\n",
       "      <td>0.393063</td>\n",
       "      <td>1.45586</td>\n",
       "      <td>0.000000</td>\n",
       "      <td>0.000000</td>\n",
       "      <td>0.000000</td>\n",
       "      <td>0.000000</td>\n",
       "      <td>0.000000</td>\n",
       "      <td>0.000000</td>\n",
       "      <td>0.000000</td>\n",
       "      <td>0.000000</td>\n",
       "    </tr>\n",
       "  </tbody>\n",
       "</table>\n",
       "<p>5 rows × 33 columns</p>\n",
       "</div>"
      ],
      "text/plain": [
       "                           UserId  Followings  Followers  MediaCount  \\\n",
       "0   1171579752855683619_212070047       518.0     9840.0         541   \n",
       "1   1171594777274371222_176762322      7333.0     2300.0         272   \n",
       "2   1171407552643586413_581125501       131.0      605.0         106   \n",
       "3   1171407552643586413_581125501       131.0      605.0         106   \n",
       "4  1171508187966229230_2797323089       132.0      456.0          56   \n",
       "\n",
       "     BrandName BrandCategory  \\\n",
       "0  abercrombie   High street   \n",
       "1  abercrombie   High street   \n",
       "2  abercrombie   High street   \n",
       "3  abercrombie   High street   \n",
       "4  abercrombie   High street   \n",
       "\n",
       "                                            Hashtags  \\\n",
       "0  beautiful, summer, fashion, love, cute, food, ...   \n",
       "1  teen, model, brunette, selfie, hollister, snap...   \n",
       "2  alexandani, cute, llbean, beanboots, anthropol...   \n",
       "3  alexandani, cute, llbean, beanboots, anthropol...   \n",
       "4  abercrombieandfitch, shopping, love, hollister...   \n",
       "\n",
       "                                             Caption  \\\n",
       "0    We were born to be REAL, not to be perfect. ...   \n",
       "1    Gotta run, but first, let me take selfie. Me...   \n",
       "2                        dress to impress\\U0001f457    \n",
       "3                        dress to impress\\U0001f457    \n",
       "4    #love #shopping #shoppen #hollister #abercro...   \n",
       "\n",
       "                                              ImgURL  Likes  ...  \\\n",
       "0  https://scontent.cdninstagram.com/t51.2885-15/...     97  ...   \n",
       "1  https://scontent.cdninstagram.com/t51.2885-15/...     94  ...   \n",
       "2  https://scontent.cdninstagram.com/t51.2885-15/...     91  ...   \n",
       "3  https://scontent.cdninstagram.com/t51.2885-15/...     94  ...   \n",
       "4  https://scontent.cdninstagram.com/t51.2885-15/...      9  ...   \n",
       "\n",
       "   NumberOfPeople  NumberOfFashionProduct     Anger  Contempt   Disgust  \\\n",
       "0        0.931486                 3.42211  0.083862  0.015089  0.000583   \n",
       "1        0.466329                 2.91971  0.000000  0.000000  0.000000   \n",
       "2        1.116500                 4.69096  0.000000  0.000000  0.000000   \n",
       "3        1.116500                 4.69096  0.000000  0.000000  0.000000   \n",
       "4        0.393063                 1.45586  0.000000  0.000000  0.000000   \n",
       "\n",
       "       Fear  Happiness   Neutral   Sadness  Surprise  \n",
       "0  0.000026   0.000017  0.890586  0.009657  0.000181  \n",
       "1  0.000000   0.000000  0.000000  0.000000  0.000000  \n",
       "2  0.000000   0.000000  0.000000  0.000000  0.000000  \n",
       "3  0.000000   0.000000  0.000000  0.000000  0.000000  \n",
       "4  0.000000   0.000000  0.000000  0.000000  0.000000  \n",
       "\n",
       "[5 rows x 33 columns]"
      ]
     },
     "execution_count": 44,
     "metadata": {},
     "output_type": "execute_result"
    }
   ],
   "source": [
    "df=pd.read_csv(\"./datasets/fashion data on Instagram.csv\")\n",
    "df.head()"
   ]
  },
  {
   "cell_type": "code",
   "execution_count": 45,
   "metadata": {},
   "outputs": [
    {
     "data": {
      "text/plain": [
       "Index(['UserId', 'Followings', 'Followers', 'MediaCount', 'BrandName',\n",
       "       'BrandCategory', 'Hashtags', 'Caption', 'ImgURL', 'Likes', 'Comments ',\n",
       "       'CreationTime', 'Link', 'Selfie', 'BodySnap', 'Marketing',\n",
       "       'ProductOnly', 'NonFashion', 'Face', 'Logo', 'BrandLogo', 'Smile',\n",
       "       'Outdoor', 'NumberOfPeople', 'NumberOfFashionProduct', 'Anger',\n",
       "       'Contempt', 'Disgust', 'Fear', 'Happiness', 'Neutral', 'Sadness',\n",
       "       'Surprise'],\n",
       "      dtype='object')"
      ]
     },
     "execution_count": 45,
     "metadata": {},
     "output_type": "execute_result"
    }
   ],
   "source": [
    "df.keys()"
   ]
  },
  {
   "cell_type": "code",
   "execution_count": 47,
   "metadata": {},
   "outputs": [
    {
     "data": {
      "text/plain": [
       "0        beautiful, summer, fashion, love, cute, food, ...\n",
       "1        teen, model, brunette, selfie, hollister, snap...\n",
       "2        alexandani, cute, llbean, beanboots, anthropol...\n",
       "3        alexandani, cute, llbean, beanboots, anthropol...\n",
       "4        abercrombieandfitch, shopping, love, hollister...\n",
       "                               ...                        \n",
       "24747    \\u0e40\\u0e2a\\u0e37\\u0e49\\u0e2d\\u0e40\\u0e17\\u0e...\n",
       "24748    siambrandname, topshopthailand, somethingboudo...\n",
       "24749    siambrandname, coach, peony, zara, \\u0e23\\u0e3...\n",
       "24750    siambrandname, coach, peony, zara, \\u0e23\\u0e3...\n",
       "24751    siambrandname, topshopthailand, somethingboudo...\n",
       "Name: Hashtags, Length: 24752, dtype: object"
      ]
     },
     "execution_count": 47,
     "metadata": {},
     "output_type": "execute_result"
    }
   ],
   "source": [
    "df['Hashtags']"
   ]
  },
  {
   "cell_type": "code",
   "execution_count": 77,
   "metadata": {},
   "outputs": [
    {
     "data": {
      "text/plain": [
       "array(['Anorak', 'Blazer', 'Blouse', 'Bomber', 'Button-Down', 'Cardigan',\n",
       "       'Flannel', 'Halter', 'Henley', 'Hoodie', 'Jacket', 'Jersey',\n",
       "       'Parka', 'Peacoat', 'Poncho', 'Sweater', 'Tank', 'Tee', 'Top',\n",
       "       'Turtleneck', 'Capris', 'Chinos', 'Culottes', 'Cutoffs', 'Gauchos',\n",
       "       'Jeans', 'Jeggings', 'Jodhpurs', 'Joggers', 'Leggings', 'Sarong',\n",
       "       'Shorts', 'Skirt', 'Sweatpants', 'Sweatshorts', 'Trunks', 'Caftan',\n",
       "       'Cape', 'Coat', 'Coverup', 'Dress', 'Jumpsuit', 'Kaftan', 'Kimono',\n",
       "       'Nightdress', 'Onesie', 'Robe', 'Romper', 'Shirtdress', 'Sundress'],\n",
       "      dtype=object)"
      ]
     },
     "execution_count": 77,
     "metadata": {},
     "output_type": "execute_result"
    }
   ],
   "source": [
    "clothes=pd.read_fwf('./datasets/list_category_cloth.txt')\n",
    "category_name=clothes['category_name']\n",
    "category_names=np.array(category_name.unique())  \n",
    "category_names"
   ]
  },
  {
   "cell_type": "code",
   "execution_count": 88,
   "metadata": {},
   "outputs": [
    {
     "name": "stdout",
     "output_type": "stream",
     "text": [
      "Encoded value for 'Jeans': 25\n"
     ]
    }
   ],
   "source": [
    "categories = ['Anorak', 'Blazer', 'Blouse', 'Bomber', 'Button-Down', 'Cardigan', 'Flannel', 'Halter', 'Henley', 'Hoodie', 'Jacket', 'Jersey', 'Parka', 'Peacoat', 'Poncho', 'Sweater', 'Tank', 'Tee', 'Top', 'Turtleneck', 'Capris', 'Chinos', 'Culottes', 'Cutoffs', 'Gauchos', 'Jeans', 'Jeggings', 'Jodhpurs', 'Joggers', 'Leggings', 'Sarong', 'Shorts', 'Skirt', 'Sweatpants', 'Sweatshorts', 'Trunks', 'Caftan', 'Cape', 'Coat', 'Coverup', 'Dress', 'Jumpsuit', 'Kaftan', 'Kimono', 'Nightdress', 'Onesie', 'Robe', 'Romper', 'Shirtdress', 'Sundress']\n",
    "\n",
    "# Create an encoding dictionary\n",
    "encoding_dict = {category: idx for idx, category in enumerate(categories)}\n",
    "\n",
    "# Function to encode a string\n",
    "def encode_string(input_string):\n",
    "    return encoding_dict.get(input_string, -1)  # Return -1 if the string is not found in the encoding\n",
    "\n",
    "# Example usage\n",
    "input_string = \"Jeans\"\n",
    "encoded_value = encode_string(input_string)\n",
    "print(f\"Encoded value for '{input_string}': {encoded_value}\")\n"
   ]
  },
  {
   "cell_type": "code",
   "execution_count": 93,
   "metadata": {},
   "outputs": [
    {
     "name": "stdout",
     "output_type": "stream",
     "text": [
      "[0 0 1 0 0 0 0 0 0 0 0 0 0 0 0 0 0 0 0 0 0 0 0 0 0 0 0 0 0 0 0 0 0 0 0 0 0\n",
      " 0 0 0 1 0 0 0 0 0 0 0 0 0]\n"
     ]
    }
   ],
   "source": [
    "import numpy as np\n",
    "import re\n",
    "\n",
    "categories = category_names\n",
    "\n",
    "category_to_index = {category.lower(): index for index, category in enumerate(categories)}\n",
    "\n",
    "\n",
    "def one_hot_encode_sentence(sentence):\n",
    "    words = re.findall(r'\\w+', sentence.lower())  \n",
    "    num_categories = len(categories)\n",
    "    encoding_array = np.zeros(num_categories, dtype=int)\n",
    "    for word in words:\n",
    "        if word in category_to_index:\n",
    "            encoding_array[category_to_index[word]] = 1\n",
    "    return encoding_array\n",
    "\n",
    "\n",
    "input_sentence = \"I wore a Dress and a Blouse yesterday.\"\n",
    "encoded_array = one_hot_encode_sentence(input_sentence)\n",
    "print(encoded_array)\n"
   ]
  },
  {
   "cell_type": "code",
   "execution_count": 97,
   "metadata": {},
   "outputs": [
    {
     "name": "stdout",
     "output_type": "stream",
     "text": [
      "Bot: Possible categories in reduced search area: ['Blouse', 'Hoodie']\n"
     ]
    },
    {
     "ename": "KeyboardInterrupt",
     "evalue": "Interrupted by user",
     "output_type": "error",
     "traceback": [
      "\u001b[1;31m---------------------------------------------------------------------------\u001b[0m",
      "\u001b[1;31mKeyboardInterrupt\u001b[0m                         Traceback (most recent call last)",
      "Cell \u001b[1;32mIn[97], line 24\u001b[0m\n\u001b[0;32m     22\u001b[0m \u001b[39m# Chatbot loop\u001b[39;00m\n\u001b[0;32m     23\u001b[0m \u001b[39mwhile\u001b[39;00m \u001b[39mTrue\u001b[39;00m:\n\u001b[1;32m---> 24\u001b[0m     input_sentence \u001b[39m=\u001b[39m \u001b[39minput\u001b[39;49m(\u001b[39m\"\u001b[39;49m\u001b[39mYou: \u001b[39;49m\u001b[39m\"\u001b[39;49m)\n\u001b[0;32m     25\u001b[0m     encoded_array \u001b[39m=\u001b[39m one_hot_encode_sentence(input_sentence)\n\u001b[0;32m     27\u001b[0m     \u001b[39m# Reduce search area based on the encoded input\u001b[39;00m\n",
      "File \u001b[1;32mc:\\Users\\kashu\\anaconda3\\lib\\site-packages\\ipykernel\\kernelbase.py:1175\u001b[0m, in \u001b[0;36mKernel.raw_input\u001b[1;34m(self, prompt)\u001b[0m\n\u001b[0;32m   1171\u001b[0m \u001b[39mif\u001b[39;00m \u001b[39mnot\u001b[39;00m \u001b[39mself\u001b[39m\u001b[39m.\u001b[39m_allow_stdin:\n\u001b[0;32m   1172\u001b[0m     \u001b[39mraise\u001b[39;00m StdinNotImplementedError(\n\u001b[0;32m   1173\u001b[0m         \u001b[39m\"\u001b[39m\u001b[39mraw_input was called, but this frontend does not support input requests.\u001b[39m\u001b[39m\"\u001b[39m\n\u001b[0;32m   1174\u001b[0m     )\n\u001b[1;32m-> 1175\u001b[0m \u001b[39mreturn\u001b[39;00m \u001b[39mself\u001b[39;49m\u001b[39m.\u001b[39;49m_input_request(\n\u001b[0;32m   1176\u001b[0m     \u001b[39mstr\u001b[39;49m(prompt),\n\u001b[0;32m   1177\u001b[0m     \u001b[39mself\u001b[39;49m\u001b[39m.\u001b[39;49m_parent_ident[\u001b[39m\"\u001b[39;49m\u001b[39mshell\u001b[39;49m\u001b[39m\"\u001b[39;49m],\n\u001b[0;32m   1178\u001b[0m     \u001b[39mself\u001b[39;49m\u001b[39m.\u001b[39;49mget_parent(\u001b[39m\"\u001b[39;49m\u001b[39mshell\u001b[39;49m\u001b[39m\"\u001b[39;49m),\n\u001b[0;32m   1179\u001b[0m     password\u001b[39m=\u001b[39;49m\u001b[39mFalse\u001b[39;49;00m,\n\u001b[0;32m   1180\u001b[0m )\n",
      "File \u001b[1;32mc:\\Users\\kashu\\anaconda3\\lib\\site-packages\\ipykernel\\kernelbase.py:1217\u001b[0m, in \u001b[0;36mKernel._input_request\u001b[1;34m(self, prompt, ident, parent, password)\u001b[0m\n\u001b[0;32m   1214\u001b[0m             \u001b[39mbreak\u001b[39;00m\n\u001b[0;32m   1215\u001b[0m \u001b[39mexcept\u001b[39;00m \u001b[39mKeyboardInterrupt\u001b[39;00m:\n\u001b[0;32m   1216\u001b[0m     \u001b[39m# re-raise KeyboardInterrupt, to truncate traceback\u001b[39;00m\n\u001b[1;32m-> 1217\u001b[0m     \u001b[39mraise\u001b[39;00m \u001b[39mKeyboardInterrupt\u001b[39;00m(\u001b[39m\"\u001b[39m\u001b[39mInterrupted by user\u001b[39m\u001b[39m\"\u001b[39m) \u001b[39mfrom\u001b[39;00m \u001b[39mNone\u001b[39m\n\u001b[0;32m   1218\u001b[0m \u001b[39mexcept\u001b[39;00m \u001b[39mException\u001b[39;00m:\n\u001b[0;32m   1219\u001b[0m     \u001b[39mself\u001b[39m\u001b[39m.\u001b[39mlog\u001b[39m.\u001b[39mwarning(\u001b[39m\"\u001b[39m\u001b[39mInvalid Message:\u001b[39m\u001b[39m\"\u001b[39m, exc_info\u001b[39m=\u001b[39m\u001b[39mTrue\u001b[39;00m)\n",
      "\u001b[1;31mKeyboardInterrupt\u001b[0m: Interrupted by user"
     ]
    }
   ],
   "source": [
    "import numpy as np\n",
    "import re\n",
    "\n",
    "categories = ['Anorak', 'Blazer', 'Blouse', 'Bomber', 'Button-Down', 'Cardigan', 'Flannel', 'Halter', 'Henley', 'Hoodie', 'Jacket', 'Jersey', 'Parka', 'Peacoat', 'Poncho', 'Sweater', 'Tank', 'Tee', 'Top', 'Turtleneck', 'Capris', 'Chinos', 'Culottes', 'Cutoffs', 'Gauchos', 'Jeans', 'Jeggings', 'Jodhpurs', 'Joggers', 'Leggings', 'Sarong', 'Shorts', 'Skirt', 'Sweatpants', 'Sweatshorts', 'Trunks', 'Caftan', 'Cape', 'Coat', 'Coverup', 'Dress', 'Jumpsuit', 'Kaftan', 'Kimono', 'Nightdress', 'Onesie', 'Robe', 'Romper', 'Shirtdress', 'Sundress']\n",
    "\n",
    "# Create a dictionary to map lowercase categories to indices\n",
    "category_to_index = {category.lower(): index for index, category in enumerate(categories)}\n",
    "\n",
    "# Function to create one-hot encoded array for a sentence\n",
    "def one_hot_encode_sentence(sentence):\n",
    "    words = re.findall(r'\\w+', sentence.lower())  # Tokenize the sentence into words\n",
    "    num_categories = len(categories)\n",
    "    encoding_array = np.zeros(num_categories, dtype=int)\n",
    "    for word in words:\n",
    "        if word in category_to_index:\n",
    "            encoding_array[category_to_index[word]] = 1\n",
    "    return encoding_array\n",
    "\n",
    "# Initialize search area with all categories\n",
    "current_search_area = list(range(len(categories)))\n",
    "\n",
    "# Chatbot loop\n",
    "while True:\n",
    "    input_sentence = input(\"You: \")\n",
    "    encoded_array = one_hot_encode_sentence(input_sentence)\n",
    "    \n",
    "    # Reduce search area based on the encoded input\n",
    "    current_search_area = [index for index in current_search_area if encoded_array[index] == 1]\n",
    "    \n",
    "    if not current_search_area:\n",
    "        print(\"Bot: I couldn't find any relevant categories.\")\n",
    "        break\n",
    "    \n",
    "    matched_categories = [categories[index] for index in current_search_area]\n",
    "    print(f\"Bot: Possible categories in reduced search area: {matched_categories}\")\n"
   ]
  },
  {
   "cell_type": "code",
   "execution_count": 98,
   "metadata": {},
   "outputs": [
    {
     "name": "stdout",
     "output_type": "stream",
     "text": [
      "['Blouse', 'Dress']\n"
     ]
    }
   ],
   "source": [
    "def get_labels_from_encoded(encoded_array):\n",
    "    labels = [categories[index] for index, value in enumerate(encoded_array) if value == 1]\n",
    "    return labels\n",
    "\n",
    "# Example usage\n",
    "input_sentence = \"I wore a Dress and a Blouse yesterday.\"\n",
    "encoded_array = one_hot_encode_sentence(input_sentence)\n",
    "labels = get_labels_from_encoded(encoded_array)\n",
    "print(labels)\n"
   ]
  },
  {
   "cell_type": "code",
   "execution_count": 104,
   "metadata": {},
   "outputs": [
    {
     "name": "stdout",
     "output_type": "stream",
     "text": [
      " * Serving Flask app '__main__'\n",
      " * Debug mode: off\n"
     ]
    },
    {
     "name": "stderr",
     "output_type": "stream",
     "text": [
      "INFO:werkzeug:\u001b[31m\u001b[1mWARNING: This is a development server. Do not use it in a production deployment. Use a production WSGI server instead.\u001b[0m\n",
      " * Running on all addresses (0.0.0.0)\n",
      " * Running on http://127.0.0.1:5000\n",
      " * Running on http://192.168.29.69:5000\n",
      "INFO:werkzeug:\u001b[33mPress CTRL+C to quit\u001b[0m\n"
     ]
    }
   ],
   "source": [
    "from flask import Flask, render_template, request, jsonify\n",
    "\n",
    "app = Flask(__name__)\n",
    "\n",
    "@app.route('/predict', methods=['POST'])\n",
    "def predict():\n",
    "    data = request.json\n",
    "    input_sentence = data['sentence']\n",
    "    \n",
    "    encoded_array = one_hot_encode_sentence(input_sentence)\n",
    "    labels = get_labels_from_encoded(encoded_array)\n",
    "    \n",
    "    return jsonify({\"labels\": labels})\n",
    "\n",
    "if __name__ == '__main__':\n",
    "    app.run(host='0.0.0.0', port=5000)"
   ]
  },
  {
   "cell_type": "code",
   "execution_count": null,
   "metadata": {},
   "outputs": [],
   "source": []
  }
 ],
 "metadata": {
  "kernelspec": {
   "display_name": "base",
   "language": "python",
   "name": "python3"
  },
  "language_info": {
   "codemirror_mode": {
    "name": "ipython",
    "version": 3
   },
   "file_extension": ".py",
   "mimetype": "text/x-python",
   "name": "python",
   "nbconvert_exporter": "python",
   "pygments_lexer": "ipython3",
   "version": "3.10.9"
  },
  "orig_nbformat": 4
 },
 "nbformat": 4,
 "nbformat_minor": 2
}
